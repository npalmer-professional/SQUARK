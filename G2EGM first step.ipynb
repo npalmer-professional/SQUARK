{
 "cells": [
  {
   "cell_type": "code",
   "execution_count": 377,
   "metadata": {},
   "outputs": [],
   "source": [
    "# Prep\n",
    "\n",
    "## Imports\n",
    "import numpy as np # mainly for np.array, but also np.zeros, etc\n",
    "from numba import jitclass, njit # jitclass for the interpolant and njit for the g2egm improvement\n",
    "from numba import float64 # for the fieldspec of the jitclass\n",
    "\n",
    "## Barycentric interpolant\n",
    "### Field spec to allow JIT compilation of entire class\n",
    "FieldSpec = [\n",
    "    ('InvDenominator', float64),\n",
    "    ('dBC', float64),\n",
    "    ('dCB', float64),\n",
    "    ('dCA', float64),\n",
    "    ('dAC', float64),\n",
    "    ('Simplex', float64[:, :]),\n",
    "    ('Values', float64[:]),\n",
    "    ('Weights', float64[:])\n",
    "]\n",
    "\n",
    "### Define interpolant class.\n",
    "@jitclass(FieldSpec)\n",
    "class BarycentricInterpolant(object):\n",
    "    \"\"\"\n",
    "    A callable barycentric interpolant to be used in the G2EGM\n",
    "    re-interpolation step.\n",
    "    \"\"\"\n",
    "    def __init__(self, Simplex, SimplexValues):\n",
    "        # TODO\n",
    "        ## - verify inputs dimensions as bounds aren't checked\n",
    "        ## - unroll A, B, C in a better way so nX, mX, dXY are\n",
    "        ##   arrays of coordinates and differences. The actual\n",
    "        ##   implementation will require solution of a linear\n",
    "        ##   system, so we will probably just have efficient\n",
    "        ##   methods for 1D and 2D, and then fall back to a\n",
    "        ##   linsolve for higher D.\n",
    "        \n",
    "        nA, mA = Simplex[0][0], Simplex[0][1]\n",
    "        nB, mB = Simplex[1][0], Simplex[1][1]\n",
    "        nC, mC = Simplex[2][0], Simplex[2][1]\n",
    "        self.Simplex = Simplex\n",
    "        self.InvDenominator = self.BarycentricInverseDenominator()\n",
    "        self.dBC = nB - nC\n",
    "        self.dCB = mC - mB\n",
    "        self.dCA = nC - nA\n",
    "        self.dAC = mA - mC\n",
    "        self.Values = SimplexValues\n",
    "        self.Weights = np.zeros(len(self.Simplex[0]))\n",
    "        \n",
    "    def BarycentricInverseDenominator(self):\n",
    "        \"\"\"\n",
    "        Calculates the inverse of the denominator for each barycentric\n",
    "        weight associated with the simplex `self` represents.\n",
    "        \n",
    "        Parameters\n",
    "        ----------\n",
    "        None\n",
    "        \n",
    "        Returns\n",
    "        -------\n",
    "        None\n",
    "        \"\"\"\n",
    "        # (nX,mX) are simply the two states in the \"triangle\"/R^2 case at vertex X\n",
    "        ABC = self.Simplex\n",
    "        nA, mA = ABC[0][0], ABC[0][1]\n",
    "        nB, mB = ABC[1][0], ABC[1][1]\n",
    "        nC, mC = ABC[2][0], ABC[2][1]\n",
    "\n",
    "        # inverse of denominator for barycentric weights\n",
    "        return 1.0/((nB - nC)*(mA - mC) + (mC - mB)*(nA - nC))\n",
    "\n",
    "    \n",
    "    def UpdateWeights(self, x):\n",
    "        \"\"\"\n",
    "        Calculates the barycentric weight at `x` associated with the simplex\n",
    "        `self` represents.\n",
    "        \n",
    "        Parameters\n",
    "        ----------\n",
    "        x : [np.array]\n",
    "            The point in the common grid to re-interpolate down to.\n",
    "        \n",
    "        Returns\n",
    "        -------\n",
    "        None\n",
    "        \"\"\"        # (nX,mX) are simply the two states in the \"triangle\"/R^2 case at vertex X\n",
    "        ABC = self.Simplex\n",
    "        nA, mA = ABC[0][0], ABC[0][1]\n",
    "        nB, mB = ABC[1][0], ABC[1][1]\n",
    "        nC, mC = ABC[2][0], ABC[2][1]\n",
    "\n",
    "        # (n,m) is the common grid point in R^2\n",
    "        n, m = x[0], x[1]\n",
    "\n",
    "        wA = (self.dBC*(m - mC) + self.dCB*(n - nC))*self.InvDenominator\n",
    "        wB = (self.dCA*(m - mC) + self.dAC*(n - nC))*self.InvDenominator\n",
    "\n",
    "        # Is an array the best thing to do here? It makes \n",
    "        # JITting easy, but it seems wasteful\n",
    "        self.Weights = np.array([wA, wB, 1.0-wA-wB])\n",
    "    \n",
    "    # def __call__(self, x): # we cannot make this callable, due to\n",
    "    # https://github.com/numba/numba/issues/1606\n",
    "    def Interpolate(self, x, Update):\n",
    "        \"\"\"\n",
    "        Interpolate `x` according to the simplex and values at simplex\n",
    "        stored in `self`.\n",
    "        \n",
    "        Parameters\n",
    "        ----------\n",
    "        x : [np.array]\n",
    "            The point in the common grid to re-interpolate down to.\n",
    "        \n",
    "        Returns\n",
    "        -------\n",
    "        None\n",
    "        \"\"\"\n",
    "        if Update:\n",
    "            self.UpdateWeights(x)\n",
    "        \n",
    "        # for some reason this won't work with np.inner! Maybe there's an asanyarray in there...\n",
    "        return self.Weights[0]*self.Values[0]+self.Weights[1]*self.Values[1]+self.Weights[2]*self.Values[2]\n",
    "        "
   ]
  },
  {
   "cell_type": "markdown",
   "metadata": {},
   "source": [
    "Quick test, just to show that things compile and run."
   ]
  },
  {
   "cell_type": "code",
   "execution_count": 378,
   "metadata": {},
   "outputs": [
    {
     "name": "stdout",
     "output_type": "stream",
     "text": [
      "[[1.  3. ]\n",
      " [3.  4. ]\n",
      " [1.5 3. ]]\n"
     ]
    }
   ],
   "source": [
    "ASimplex = np.array([[1.0,3.0],[3.,4.0],[1.5,3.0]])\n",
    "print(ASimplex)\n",
    "# Check the simplex interpolated values (should equal the second inputs)\n",
    "bi = BarycentricInterpolant(ASimplex, np.array([1.0,2.0,3.0]))"
   ]
  },
  {
   "cell_type": "markdown",
   "metadata": {},
   "source": [
    "Update weights (second positional argument True) and interpolate policy at [1.0, 3.0]"
   ]
  },
  {
   "cell_type": "code",
   "execution_count": 379,
   "metadata": {},
   "outputs": [
    {
     "data": {
      "text/plain": [
       "1.0"
      ]
     },
     "execution_count": 379,
     "metadata": {},
     "output_type": "execute_result"
    }
   ],
   "source": [
    "bi.Interpolate(np.array([1.0,3.0]), True)"
   ]
  },
  {
   "cell_type": "markdown",
   "metadata": {},
   "source": [
    "Verify that weights put all weight on first vertex."
   ]
  },
  {
   "cell_type": "code",
   "execution_count": 380,
   "metadata": {},
   "outputs": [
    {
     "data": {
      "text/plain": [
       "array([1., 0., 0.])"
      ]
     },
     "execution_count": 380,
     "metadata": {},
     "output_type": "execute_result"
    }
   ],
   "source": [
    "bi.Weights"
   ]
  },
  {
   "cell_type": "markdown",
   "metadata": {},
   "source": [
    "Interpolate at [3.0, 1.0] way outside of simplex"
   ]
  },
  {
   "cell_type": "code",
   "execution_count": 381,
   "metadata": {},
   "outputs": [
    {
     "data": {
      "text/plain": [
       "23.0"
      ]
     },
     "execution_count": 381,
     "metadata": {},
     "output_type": "execute_result"
    }
   ],
   "source": [
    "bi.Interpolate(np.array([3.0,1.0]), True)"
   ]
  },
  {
   "cell_type": "raw",
   "metadata": {},
   "source": [
    "Verify that weights are totally out of the trust region"
   ]
  },
  {
   "cell_type": "code",
   "execution_count": 382,
   "metadata": {},
   "outputs": [
    {
     "data": {
      "text/plain": [
       "array([-9., -2., 12.])"
      ]
     },
     "execution_count": 382,
     "metadata": {},
     "output_type": "execute_result"
    }
   ],
   "source": [
    "bi.Weights"
   ]
  },
  {
   "cell_type": "markdown",
   "metadata": {},
   "source": [
    "# G2EGM\n",
    "It's time to put it all together."
   ]
  },
  {
   "cell_type": "code",
   "execution_count": 1,
   "metadata": {},
   "outputs": [],
   "source": [
    "# The G2EGM re-interpolate / upper envelope step\n",
    "def ReinterpolateG2EGM(CommonGrid, S, C,    # variables from segment\n",
    "                    Policy, ValueAtPolicy, # best candidates so far\n",
    "                    ValueEvalutation, Cutoff = -0.25):\n",
    "    \"\"\"\n",
    "    ReinterpolateG2EGM(CommonGrid)\n",
    "\n",
    "    Simultaneously re-interpolate segment solutions down to\n",
    "    a common grid `CommonGrid`, construct the upper envelope and save\n",
    "    the candidate policies and values at post-decision states.\n",
    "\n",
    "    Parameters\n",
    "    ----------\n",
    "        CommonGrid : collection of points in the common grid\n",
    "        S : array of simpleces\n",
    "        C : array of controls at simpleces\n",
    "        Policy : candidate policies\n",
    "        ValueAtPolicy : w at Policy\n",
    "        ValueEvaluation : function that calculates the value of a policy and post-decision state\n",
    "        \n",
    "    Returns\n",
    "    -------\n",
    "        Policy : candidate policies\n",
    "        ValueAtPolicy : w at Policy\n",
    "    \"\"\"\n",
    "    i = 0\n",
    "    for s in S:\n",
    "        # lb, ub = bounding_box(𝕤, G) # find hypercube around simplex\n",
    "        # we *could* generate the points directly from indeces here instead of just the (lb, ub)\n",
    "        bi = BarycentricInterpolant(s, C[i])\n",
    "        for ig in range(len(CommonGrid)): # loop over all points, this is not the only way, we could look for points first\n",
    "            g = G[ig]\n",
    "            bi.UpdateWeights(g)  # get weights\n",
    "            if all(Weight > Cutoff for Weight in bi.Weights): # is a \"black\" point; the check at this point could be\n",
    "                                                              # replaced with a bisection search for the black points\n",
    "                                                              # at an earlier step to avoid too many comparisons\n",
    "                PolicyAtg = bi.Interpolate(g, False) # interpolate given weights and corner policies\n",
    "                ValueAtg = ValueEvalutation(PolicyAtg, g)\n",
    "                if ValueAtg >= ValueAtPolicy[ig]:\n",
    "                    Policy[ig] = PolicyAtg\n",
    "                    ValueAtPolicy[ig] = ValueAtg         \n",
    "        i += 1\n",
    "\n",
    "    return Policy, ValueAtPolicy"
   ]
  },
  {
   "cell_type": "code",
   "execution_count": null,
   "metadata": {},
   "outputs": [],
   "source": []
  }
 ],
 "metadata": {
  "kernelspec": {
   "display_name": "Python 3",
   "language": "python",
   "name": "python3"
  },
  "language_info": {
   "codemirror_mode": {
    "name": "ipython",
    "version": 3
   },
   "file_extension": ".py",
   "mimetype": "text/x-python",
   "name": "python",
   "nbconvert_exporter": "python",
   "pygments_lexer": "ipython3",
   "version": "3.6.5"
  }
 },
 "nbformat": 4,
 "nbformat_minor": 2
}
