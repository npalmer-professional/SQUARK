{
 "cells": [
  {
   "cell_type": "code",
   "execution_count": 1,
   "metadata": {},
   "outputs": [],
   "source": [
    "# Prep\n",
    "from numba import njit # important if we want to keep this in Python (which seems to be an (un?)stated goal)\n",
    "import numpy as np # we have to use numpy arrays to jit functions on arrays"
   ]
  },
  {
   "cell_type": "markdown",
   "metadata": {},
   "source": [
    "# G2EGM\n",
    "This notebook briefly shows some prototypes for functions that will be useful and necessary (though not sufficient) to people working with models that G2EGM can handle. To see why `@njit` might be important to get right, we also show some simple timings.\n",
    "\n",
    "The central step in G2EGM requires keeping track of all the **candidate** policies ($C$) at the vertices of a collection of simpleces ($S$). Elements of $C$ are vectors in $\\mathbb{R}^n$ and elements of $S$ are simpleces with vertices in $\\mathbb{R}^n$ where $n$ in both cases refer to the number of (continuous) states. These are used to calculate the barycentric weights for the common grid ($G$) when interpolating from the endogeous grids that are the output of each so-called *segment* calculation.\n",
    "\n",
    "Let us calculate the barycentric weights $(wA, wB, wC)$ used to interpolate the policy onto a new point in $R^n$ from data consisting of a simplex $ABC$ (for the triangle it represents with vertices $(A,B,C)$) and the new point $x$."
   ]
  },
  {
   "cell_type": "code",
   "execution_count": 1,
   "metadata": {},
   "outputs": [],
   "source": [
    "def BarycentricWeightsNoJIT(ABC, x):\n",
    "    # (nX,mX) are simply the two states in the \"triangle\"/R^2 case at vertex X\n",
    "    nA, mA = ABC[0][0], ABC[0][1]\n",
    "    nB, mB = ABC[1][0], ABC[1][1]\n",
    "    nC, mC = ABC[2][0], ABC[2][1]\n",
    "    \n",
    "    # This line right here suggest that we might want to input a collection of points X,\n",
    "    # as inv_denom will be the same for all x, and there might be many of them to be evaluate\n",
    "    # for each simplex.\n",
    "    inv_denom = 1/((nB - nC)*(mA - mC) + (mC - mB)*(nA - nC))\n",
    "    \n",
    "    # (n,m) is the common grid point in R^2\n",
    "    n, m = x[0], x[1]\n",
    "    \n",
    "    # this is where\n",
    "    wA = ((nB - nC)*(m - mC) + (mC - mB)*(n - nC))*inv_denom\n",
    "    wB = ((nC - nA)*(m - mC) + (mA - mC)*(n - nC))*inv_denom\n",
    "\n",
    "    return wA, wB, 1-wA-wB"
   ]
  },
  {
   "cell_type": "markdown",
   "metadata": {},
   "source": [
    "Then let's construct a simplex with vertices in $\\mathbb{R}^2$."
   ]
  },
  {
   "cell_type": "code",
   "execution_count": 3,
   "metadata": {},
   "outputs": [
    {
     "name": "stdout",
     "output_type": "stream",
     "text": [
      "[[1.  3. ]\n",
      " [3.  4. ]\n",
      " [1.5 3. ]]\n"
     ]
    }
   ],
   "source": [
    "ASimplex = np.array([[1.0,3.0],[3.,4.0],[1.5,3.0]])\n",
    "print(ASimplex)"
   ]
  },
  {
   "cell_type": "code",
   "execution_count": 4,
   "metadata": {},
   "outputs": [
    {
     "data": {
      "text/plain": [
       "(3, 2)"
      ]
     },
     "execution_count": 4,
     "metadata": {},
     "output_type": "execute_result"
    }
   ],
   "source": [
    "ASimplex.shape # print the shape to verify it is indeed 3 x 2"
   ]
  },
  {
   "cell_type": "markdown",
   "metadata": {},
   "source": [
    "Simple checks of the function include inputting the vertices for $x$, linear combinations and outside points."
   ]
  },
  {
   "cell_type": "code",
   "execution_count": 5,
   "metadata": {},
   "outputs": [
    {
     "data": {
      "text/plain": [
       "(1.0, 0.0, 0.0)"
      ]
     },
     "execution_count": 5,
     "metadata": {},
     "output_type": "execute_result"
    }
   ],
   "source": [
    "# Should put all weight on first vertex\n",
    "BarycentricWeightsNoJIT(ASimplex, np.array([1.0,3.0]))"
   ]
  },
  {
   "cell_type": "code",
   "execution_count": 6,
   "metadata": {},
   "outputs": [
    {
     "data": {
      "text/plain": [
       "(0.0, 1.0, 0.0)"
      ]
     },
     "execution_count": 6,
     "metadata": {},
     "output_type": "execute_result"
    }
   ],
   "source": [
    "# Should put all weight on second vertex\n",
    "BarycentricWeightsNoJIT(ASimplex, np.array([3.0,4.0]))"
   ]
  },
  {
   "cell_type": "code",
   "execution_count": 7,
   "metadata": {},
   "outputs": [
    {
     "data": {
      "text/plain": [
       "(0.0, 0.0, 1.0)"
      ]
     },
     "execution_count": 7,
     "metadata": {},
     "output_type": "execute_result"
    }
   ],
   "source": [
    "# Should put all weight on third vertex\n",
    "BarycentricWeightsNoJIT(ASimplex, np.array([1.5,3.0]))"
   ]
  },
  {
   "cell_type": "code",
   "execution_count": 8,
   "metadata": {},
   "outputs": [
    {
     "data": {
      "text/plain": [
       "(0.5, 0.5, 0.0)"
      ]
     },
     "execution_count": 8,
     "metadata": {},
     "output_type": "execute_result"
    }
   ],
   "source": [
    "# Should put equal weight between first two verteces\n",
    "BarycentricWeightsNoJIT(ASimplex, np.array([2.0,3.5]))"
   ]
  },
  {
   "cell_type": "code",
   "execution_count": 9,
   "metadata": {},
   "outputs": [
    {
     "data": {
      "text/plain": [
       "(0.0, 0.5, 0.5)"
      ]
     },
     "execution_count": 9,
     "metadata": {},
     "output_type": "execute_result"
    }
   ],
   "source": [
    "# Should put equal weight between last two verteces\n",
    "BarycentricWeightsNoJIT(ASimplex, np.array([4.5/2,3.5]))"
   ]
  },
  {
   "cell_type": "code",
   "execution_count": 10,
   "metadata": {},
   "outputs": [
    {
     "data": {
      "text/plain": [
       "(0.0, -1.0, 2.0)"
      ]
     },
     "execution_count": 10,
     "metadata": {},
     "output_type": "execute_result"
    }
   ],
   "source": [
    "# Should be quite far outside of simplex.\n",
    "BarycentricWeightsNoJIT(ASimplex, ASimplex[0]-1)"
   ]
  },
  {
   "cell_type": "markdown",
   "metadata": {},
   "source": [
    "## JIT\n",
    "So the function seems to work. It was written to only use numpy operations if $ABC$ and $x$ are numpy arrays, so it should be jittable. Let's try to use `@njit`."
   ]
  },
  {
   "cell_type": "code",
   "execution_count": 11,
   "metadata": {},
   "outputs": [],
   "source": [
    "@njit\n",
    "def BarycentricWeights(ABC, x):\n",
    "    # (nX,mX) are simply the two states in the \"triangle\"/R^2 case at vertex X\n",
    "    nA, mA = ABC[0][0], ABC[0][1]\n",
    "    nB, mB = ABC[1][0], ABC[1][1]\n",
    "    nC, mC = ABC[2][0], ABC[2][1]\n",
    "\n",
    "    # (n,m) is the common grid point in R^2\n",
    "    n, m = x[0], x[1]\n",
    "    \n",
    "    inv_denom = 1/((nB - nC)*(mA - mC) + (mC - mB)*(nA - nC))  # might be good to loop over points anyway!\n",
    "    \n",
    "    wA = ((nB - nC)*(m - mC) + (mC - mB)*(n - nC))*inv_denom\n",
    "    wB = ((nC - nA)*(m - mC) + (mA - mC)*(n - nC))*inv_denom\n",
    "\n",
    "    return wA, wB, 1-wA-wB"
   ]
  },
  {
   "cell_type": "markdown",
   "metadata": {},
   "source": [
    "... and verify that it still works!"
   ]
  },
  {
   "cell_type": "code",
   "execution_count": 12,
   "metadata": {},
   "outputs": [
    {
     "name": "stdout",
     "output_type": "stream",
     "text": [
      "1) Verify that all weight is on first vertex.\n",
      "    weights:  (1.0, 0.0, 0.0)\n",
      "    status:  True\n",
      "2) Verify that all weight is on second vertex.\n",
      "    weights:  (0.0, 1.0, 0.0)\n",
      "    status:  True\n",
      "3) Verify that all weight is on third vertex.\n",
      "    weights:  (0.0, 0.0, 1.0)\n",
      "    status:  True\n",
      "4) Verify that all weight is put equally on first verteces.\n",
      "    weights:  (0.5, 0.5, 0.0)\n",
      "    status:  True\n",
      "5) Verify that all weight is put equally on last verteces.\n",
      "    weights:  (0.0, 0.5, 0.5)\n",
      "    status:  True\n",
      "5) Verify that an internal point has weights that sum to one.\n",
      "    weights:  (0.3333333333333339, 0.3333333333333335, 0.3333333333333326)\n",
      "    status:  1.0\n"
     ]
    }
   ],
   "source": [
    "# Should put all weight on first vertex\n",
    "bw1 = BarycentricWeights(ASimplex, np.array([1.0,3.0]))\n",
    "# Should put all weight on second vertex\n",
    "bw2 = BarycentricWeights(ASimplex, np.array([3.0,4.0]))\n",
    "# Should put all weight on third vertex\n",
    "bw3 = BarycentricWeights(ASimplex, np.array([1.5,3.0]))\n",
    "# Should put equal weight between first two verteces\n",
    "bw4 = BarycentricWeights(ASimplex, np.array([2.0,3.5]))\n",
    "# Should put equal weight between last two verteces\n",
    "bw5 = BarycentricWeights(ASimplex, np.array([4.5/2,3.5]))\n",
    "# Internal point has weights that sum to one\n",
    "bw6 = BarycentricWeights(ASimplex, np.array(sum(ASimplex)/3))\n",
    "print(\"1) Verify that all weight is on first vertex.\")\n",
    "print(\"    weights: \", bw1)\n",
    "print(\"    status: \", np.array([bw1[0]==1.0, bw1[1] == 0.0, bw1[2] == 0.0]).all())\n",
    "print(\"2) Verify that all weight is on second vertex.\")\n",
    "print(\"    weights: \", bw2)\n",
    "print(\"    status: \", np.array([bw2[0]==0.0, bw2[1] == 1.0, bw2[2] == 0.0]).all())\n",
    "print(\"3) Verify that all weight is on third vertex.\")\n",
    "print(\"    weights: \", bw3)\n",
    "print(\"    status: \", np.array([bw3[0]==0.0, bw3[1] == 0.0, bw3[2] == 1.0]).all())\n",
    "print(\"4) Verify that all weight is put equally on first verteces.\")\n",
    "print(\"    weights: \", bw4)\n",
    "print(\"    status: \", np.array([bw4[0]==0.50, bw4[1] == 0.50, bw4[2] == 0.0]).all())\n",
    "print(\"5) Verify that all weight is put equally on last verteces.\")\n",
    "print(\"    weights: \", bw5)\n",
    "print(\"    status: \", np.array([bw5[0]==0.00, bw5[1] == 0.50, bw5[2] == 0.50]).all())\n",
    "print(\"5) Verify that an internal point has weights that sum to one.\")\n",
    "print(\"    weights: \", bw6)\n",
    "print(\"    status: \", np.array([bw6[0], bw6[1], bw6[2]]).sum())"
   ]
  },
  {
   "cell_type": "markdown",
   "metadata": {},
   "source": [
    "## Time to run\n",
    "So it seems to work! But are they equally fast? Let's find out. The merit of jitting is to compile the code instead of interpreting it, and do so given the types we present to it. Very unscientifically, we use `timeit.timeit` to time the total time it takes to calculate 1e6 (default value) weights."
   ]
  },
  {
   "cell_type": "code",
   "execution_count": 13,
   "metadata": {},
   "outputs": [],
   "source": [
    "from timeit import timeit"
   ]
  },
  {
   "cell_type": "code",
   "execution_count": 14,
   "metadata": {},
   "outputs": [],
   "source": [
    "def timebw():\n",
    "    return BarycentricWeights(ASimplex, np.array([1.0,2.0]))\n",
    "def timebwnj():\n",
    "    return BarycentricWeightsNoJIT(ASimplex, np.array([1.0,2.0]))"
   ]
  },
  {
   "cell_type": "code",
   "execution_count": 17,
   "metadata": {},
   "outputs": [
    {
     "data": {
      "text/plain": [
       "1.4942797016078266"
      ]
     },
     "execution_count": 17,
     "metadata": {},
     "output_type": "execute_result"
    }
   ],
   "source": [
    "timeit(timebw)"
   ]
  },
  {
   "cell_type": "code",
   "execution_count": 18,
   "metadata": {},
   "outputs": [
    {
     "data": {
      "text/plain": [
       "4.862568766745028"
      ]
     },
     "execution_count": 18,
     "metadata": {},
     "output_type": "execute_result"
    }
   ],
   "source": [
    "timeit(timebwnj)"
   ]
  },
  {
   "cell_type": "markdown",
   "metadata": {},
   "source": [
    "As we can see, we are not talking orders of magnitude, or magic, here, but jitting did seem to make it a factor two faster."
   ]
  }
 ],
 "metadata": {
  "kernelspec": {
   "display_name": "Python 3",
   "language": "python",
   "name": "python3"
  },
  "language_info": {
   "codemirror_mode": {
    "name": "ipython",
    "version": 3
   },
   "file_extension": ".py",
   "mimetype": "text/x-python",
   "name": "python",
   "nbconvert_exporter": "python",
   "pygments_lexer": "ipython3",
   "version": "3.6.5"
  }
 },
 "nbformat": 4,
 "nbformat_minor": 2
}
