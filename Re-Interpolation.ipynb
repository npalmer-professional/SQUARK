{
 "cells": [
  {
   "cell_type": "code",
   "execution_count": 5,
   "metadata": {},
   "outputs": [],
   "source": [
    "# Prep...\n",
    "from numba import njit # important if we want to keep this in Python (which seems to be an (un?)stated goal)\n",
    "import numpy as np # we have to use numpy arrays to jit functions on arrays"
   ]
  },
  {
   "cell_type": "markdown",
   "metadata": {},
   "source": [
    "# G2EGM - interpolation\n",
    "The previous notebook considered a very small subset of the G2EGM step, handling the barycentric weights. Here, we'll make some changes to the way the weights are computed to accomodate efficient computation in the total G2EGM step.\n",
    "\n",
    "As noted in a comment in the previous notebook, the inverse of the denominator can be precomputed. It's a detail, but it's worth it to make the overall performance better, since the reinterpolation step consists of: calculating the inverse (general for the segment across points in the common grid), calculating weights for the current point ($x$) in the common grid, and an inner product between the policy at the simplex an the $x$-specific weights. Since the first step involves a division, we really don't want to recompute it for all $x\\in \\mathbb{G}$ (the common grid).\n",
    "\n",
    "We create a function that takes in the simplex and returns the inverse of the denominator of the weights."
   ]
  },
  {
   "cell_type": "code",
   "execution_count": 25,
   "metadata": {},
   "outputs": [],
   "source": [
    "@njit\n",
    "def BarycentricInverseDenominator(ABC):\n",
    "   # (nX,mX) are simply the two states in the \"triangle\"/R^2 case at vertex X\n",
    "    nA, mA = ABC[0][0], ABC[0][1]\n",
    "    nB, mB = ABC[1][0], ABC[1][1]\n",
    "    nC, mC = ABC[2][0], ABC[2][1]\n",
    "    \n",
    "    # inverse of denominator for barycentric weights\n",
    "    return 1/((nB - nC)*(mA - mC) + (mC - mB)*(nA - nC))\n"
   ]
  },
  {
   "cell_type": "markdown",
   "metadata": {},
   "source": [
    "This will hopefully be worth it, and probably will. Then, the function to calculate the weights looks as below."
   ]
  },
  {
   "cell_type": "code",
   "execution_count": 26,
   "metadata": {},
   "outputs": [],
   "source": [
    "@njit\n",
    "def BarycentricWeights(ABC, x):\n",
    "    \n",
    "    # get inverse denominator\n",
    "    inv_denom = BarycentricInverseDenominator(ABC)\n",
    "\n",
    "    # (nX,mX) are simply the two states in the \"triangle\"/R^2 case at vertex X\n",
    "    nA, mA = ABC[0][0], ABC[0][1]\n",
    "    nB, mB = ABC[1][0], ABC[1][1]\n",
    "    nC, mC = ABC[2][0], ABC[2][1]\n",
    "    \n",
    "    # (n,m) is the common grid point in R^2\n",
    "    n, m = x[0], x[1]\n",
    "    \n",
    "    wA = ((nB - nC)*(m - mC) + (mC - mB)*(n - nC))*inv_denom\n",
    "    wB = ((nC - nA)*(m - mC) + (mA - mC)*(n - nC))*inv_denom\n",
    "\n",
    "    # tuple for generic capabilities in function that consumes\n",
    "    # this output\n",
    "    return (wA, wB, 1-wA-wB)"
   ]
  },
  {
   "cell_type": "markdown",
   "metadata": {},
   "source": [
    "As we can see, we now return a tuple (different from last time), as this allows for generic handling of the interpolation below."
   ]
  },
  {
   "cell_type": "code",
   "execution_count": 27,
   "metadata": {},
   "outputs": [],
   "source": [
    "def BarycentricInterp(Simplex, SimplexValues, x):\n",
    "    Weights = BarycentricWeights(Simplex, x)\n",
    "    \n",
    "    return np.inner(Weights, SimplexValues)"
   ]
  },
  {
   "cell_type": "code",
   "execution_count": 28,
   "metadata": {},
   "outputs": [
    {
     "name": "stdout",
     "output_type": "stream",
     "text": [
      "[[1.  3. ]\n",
      " [3.  4. ]\n",
      " [1.5 3. ]]\n"
     ]
    }
   ],
   "source": [
    "ASimplex = np.array([[1.0,3.0],[3.,4.0],[1.5,3.0]])\n",
    "ASimplex = np.array([[1.0,3.0],[3.,4.0],[1.5,3.0]])\n",
    "print(ASimplex)"
   ]
  },
  {
   "cell_type": "code",
   "execution_count": 31,
   "metadata": {},
   "outputs": [
    {
     "data": {
      "text/plain": [
       "1.0"
      ]
     },
     "execution_count": 31,
     "metadata": {},
     "output_type": "execute_result"
    }
   ],
   "source": [
    "# Check the simplex interpolated values (should equal the second inputs)\n",
    "BarycentricInterp(ASimplex, np.array([1.0,2.0,3.0]), np.array([1,3]))"
   ]
  },
  {
   "cell_type": "code",
   "execution_count": 43,
   "metadata": {},
   "outputs": [
    {
     "name": "stdout",
     "output_type": "stream",
     "text": [
      "Values match at index  0 :  True\n",
      "Values match at index  1 :  True\n",
      "Values match at index  2 :  True\n"
     ]
    }
   ],
   "source": [
    "# Check the simplex interpolated values (should equal the second input to the function)\n",
    "SimplexValues = np.array([1.0,2.0,3.0])\n",
    "for i in range(3):\n",
    "    print(\"Values match at index \",i,\": \", BarycentricInterp(ASimplex, SimplexValues, ASimplex[i]) == SimplexValues[i])"
   ]
  },
  {
   "cell_type": "code",
   "execution_count": 49,
   "metadata": {},
   "outputs": [
    {
     "name": "stdout",
     "output_type": "stream",
     "text": [
      "Values match at max  1 :  True\n",
      "Values match at max  2 :  True\n"
     ]
    }
   ],
   "source": [
    "# Check simple combined values (should equal the second input to the function)\n",
    "SimplexValues = np.array([1.0,2.0,3.0])\n",
    "for i in range(2):\n",
    "    print(\"Values match at max \",i+1,\": \", BarycentricInterp(ASimplex, SimplexValues, (ASimplex[i]+ASimplex[i+1])/2) == (SimplexValues[i]+SimplexValues[i+1])/2)"
   ]
  },
  {
   "cell_type": "markdown",
   "metadata": {},
   "source": [
    "The fact that inverses can be precomputed, and actually also `(nB - nC)` etc, means that we should either structure our code in a way that relies on small helper functions, or more naturally as an object. Though, normal objects cannot be used if we want to jit our functions, as `self` will trigger python-mode, and kill performance, so we'll have to work with `jitclass`"
   ]
  },
  {
   "cell_type": "code",
   "execution_count": 52,
   "metadata": {},
   "outputs": [],
   "source": [
    "from numba import jitclass\n",
    "from numba import float64"
   ]
  },
  {
   "cell_type": "code",
   "execution_count": 132,
   "metadata": {},
   "outputs": [],
   "source": [
    "FieldSpec = [\n",
    "    ('InvDenominator', float64),\n",
    "    ('dBC', float64),\n",
    "    ('dCB', float64),\n",
    "    ('dCA', float64),\n",
    "    ('dAC', float64),\n",
    "    ('Simplex', float64[:, :]),\n",
    "    ('Values', float64[:])\n",
    "]\n",
    "@jitclass(FieldSpec)\n",
    "class BarycentricInterpolant(object):\n",
    "    def __init__(self, Simplex, SimplexValues):\n",
    "        nA, mA = Simplex[0][0], Simplex[0][1]\n",
    "        nB, mB = Simplex[1][0], Simplex[1][1]\n",
    "        nC, mC = Simplex[2][0], Simplex[2][1]\n",
    "        self.Simplex = Simplex\n",
    "        self.InvDenominator = self.BarycentricInverseDenominator()\n",
    "        self.dBC = nB - nC\n",
    "        self.dCB = mC - mB\n",
    "        self.dCA = nC - nA\n",
    "        self.dAC = mA - mC\n",
    "        self.Values = SimplexValues\n",
    "\n",
    "        \n",
    "    def BarycentricInverseDenominator(self):\n",
    "       # (nX,mX) are simply the two states in the \"triangle\"/R^2 case at vertex X\n",
    "        ABC = self.Simplex\n",
    "        nA, mA = ABC[0][0], ABC[0][1]\n",
    "        nB, mB = ABC[1][0], ABC[1][1]\n",
    "        nC, mC = ABC[2][0], ABC[2][1]\n",
    "\n",
    "        # inverse of denominator for barycentric weights\n",
    "        return 1.0/((nB - nC)*(mA - mC) + (mC - mB)*(nA - nC))\n",
    "\n",
    "    \n",
    "    def BarycentricWeights(self, x):\n",
    "        # (nX,mX) are simply the two states in the \"triangle\"/R^2 case at vertex X\n",
    "        ABC = self.Simplex\n",
    "        nA, mA = ABC[0][0], ABC[0][1]\n",
    "        nB, mB = ABC[1][0], ABC[1][1]\n",
    "        nC, mC = ABC[2][0], ABC[2][1]\n",
    "\n",
    "        # (n,m) is the common grid point in R^2\n",
    "        n, m = x[0], x[1]\n",
    "\n",
    "        wA = (self.dBC*(m - mC) + self.dCB*(n - nC))*self.InvDenominator\n",
    "        wB = (self.dCA*(m - mC) + self.dAC*(n - nC))*self.InvDenominator\n",
    "\n",
    "        # tuple for generic capabilities in function that consumes\n",
    "        # this output\n",
    "        return (wA, wB, 1.0-wA-wB)\n",
    "     \n",
    "        \n",
    "    def Interp(self, x):\n",
    "        Weights = self.BarycentricWeights(x)\n",
    "        \n",
    "        # for some reason this won't work with np.inner! Maybe there's an asanyarray in there...\n",
    "        return Weights[0]*self.Values[0]+Weights[1]*self.Values[1]+Weights[2]*self.Values[2]"
   ]
  },
  {
   "cell_type": "code",
   "execution_count": 133,
   "metadata": {},
   "outputs": [],
   "source": [
    "# Check the simplex interpolated values (should equal the second inputs)\n",
    "bi = BarycentricInterpolant(ASimplex, np.array([1.0,2.0,3.0]))"
   ]
  },
  {
   "cell_type": "code",
   "execution_count": 134,
   "metadata": {},
   "outputs": [
    {
     "data": {
      "text/plain": [
       "1.0"
      ]
     },
     "execution_count": 134,
     "metadata": {},
     "output_type": "execute_result"
    }
   ],
   "source": [
    "bi.Interp(np.array([1.0,3.0]))"
   ]
  },
  {
   "cell_type": "code",
   "execution_count": 135,
   "metadata": {},
   "outputs": [
    {
     "data": {
      "text/plain": [
       "2.0"
      ]
     },
     "execution_count": 135,
     "metadata": {},
     "output_type": "execute_result"
    }
   ],
   "source": [
    "bi.Interp(np.array([3.0,4.0]))"
   ]
  },
  {
   "cell_type": "code",
   "execution_count": 136,
   "metadata": {},
   "outputs": [
    {
     "data": {
      "text/plain": [
       "3.0"
      ]
     },
     "execution_count": 136,
     "metadata": {},
     "output_type": "execute_result"
    }
   ],
   "source": [
    "bi.Interp(np.array([1.5, 3.0]))"
   ]
  },
  {
   "cell_type": "code",
   "execution_count": 137,
   "metadata": {},
   "outputs": [
    {
     "data": {
      "text/plain": [
       "1.5"
      ]
     },
     "execution_count": 137,
     "metadata": {},
     "output_type": "execute_result"
    }
   ],
   "source": [
    "bi.Interp(np.array([2.0, 3.5]))"
   ]
  },
  {
   "cell_type": "markdown",
   "metadata": {},
   "source": [
    "It works as expected! The code has to be documented and made more generic to support $N$ dimensional models though."
   ]
  }
 ],
 "metadata": {
  "kernelspec": {
   "display_name": "Python 3",
   "language": "python",
   "name": "python3"
  },
  "language_info": {
   "codemirror_mode": {
    "name": "ipython",
    "version": 3
   },
   "file_extension": ".py",
   "mimetype": "text/x-python",
   "name": "python",
   "nbconvert_exporter": "python",
   "pygments_lexer": "ipython3",
   "version": "3.6.5"
  }
 },
 "nbformat": 4,
 "nbformat_minor": 2
}
